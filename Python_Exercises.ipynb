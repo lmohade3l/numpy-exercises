{
  "nbformat": 4,
  "nbformat_minor": 0,
  "metadata": {
    "colab": {
      "name": "Python-Exercises.ipynb",
      "provenance": []
    },
    "kernelspec": {
      "name": "python3",
      "display_name": "Python 3"
    },
    "language_info": {
      "name": "python"
    }
  },
  "cells": [
    {
      "cell_type": "markdown",
      "source": [
        "1.Add two numbers"
      ],
      "metadata": {
        "id": "HNEss0O4fSSp"
      }
    },
    {
      "cell_type": "code",
      "execution_count": null,
      "metadata": {
        "id": "o5YlrLYy8Zv_",
        "colab": {
          "base_uri": "https://localhost:8080/"
        },
        "outputId": "cd89e21f-7b74-4ed3-8f9b-3190c44fd682"
      },
      "outputs": [
        {
          "output_type": "stream",
          "name": "stdout",
          "text": [
            "Enter the first number: 5\n",
            "Enter the second number : 6\n",
            "Sum of entered numbers is:  11\n"
          ]
        }
      ],
      "source": [
        "x = int(input(\"Enter the first number: \"))\n",
        "y = int(input(\"Enter the second number : \"))\n",
        "\n",
        "sum = x + y\n",
        "print(\"Sum of entered numbers is: \", sum)"
      ]
    },
    {
      "cell_type": "markdown",
      "source": [
        "2.Maximum of two numbers in "
      ],
      "metadata": {
        "id": "5JBc9b2of7sH"
      }
    },
    {
      "cell_type": "code",
      "source": [
        "x = int(input(\"Enter the first number: \"))\n",
        "y = int(input(\"Enter the second number : \"))\n",
        "#num = [x,y]\n",
        "#ans = max(num)\n",
        "ans = x\n",
        "if y > x:\n",
        "  ans = y\n",
        "print(ans)"
      ],
      "metadata": {
        "colab": {
          "base_uri": "https://localhost:8080/"
        },
        "id": "a-JQDCZlfvoX",
        "outputId": "13b7502c-2828-4b3c-b406-1b7c99b4fb87"
      },
      "execution_count": 1,
      "outputs": [
        {
          "output_type": "stream",
          "name": "stdout",
          "text": [
            "Enter the first number: 63\n",
            "Enter the second number : 321\n",
            "321\n"
          ]
        }
      ]
    },
    {
      "cell_type": "markdown",
      "source": [
        "3.Factorial of a number"
      ],
      "metadata": {
        "id": "rEfQbPk9xgYW"
      }
    },
    {
      "cell_type": "code",
      "source": [
        "n = int(input(\"Enter the number: \"))\n",
        "factorial = 1\n",
        "for i in range(1 , n+1) :\n",
        "  factorial = i*factorial\n",
        "\n",
        "print(factorial)\n"
      ],
      "metadata": {
        "id": "heSUKWwogJV0",
        "colab": {
          "base_uri": "https://localhost:8080/"
        },
        "outputId": "4d816457-a0f8-4926-fbc1-306d6bc80473"
      },
      "execution_count": 2,
      "outputs": [
        {
          "output_type": "stream",
          "name": "stdout",
          "text": [
            "Enter the number: 6\n",
            "720\n"
          ]
        }
      ]
    },
    {
      "cell_type": "code",
      "source": [
        ""
      ],
      "metadata": {
        "id": "fURjJW4FypiK"
      },
      "execution_count": null,
      "outputs": []
    }
  ]
}