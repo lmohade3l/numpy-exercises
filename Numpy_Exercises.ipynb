{
  "nbformat": 4,
  "nbformat_minor": 0,
  "metadata": {
    "colab": {
      "name": "Numpy-Exercises.ipynb",
      "provenance": []
    },
    "kernelspec": {
      "name": "python3",
      "display_name": "Python 3"
    },
    "language_info": {
      "name": "python"
    }
  },
  "cells": [
    {
      "cell_type": "markdown",
      "source": [
        "1.Create an empty and a full numPy array"
      ],
      "metadata": {
        "id": "h8dX0n2-1y2I"
      }
    },
    {
      "cell_type": "code",
      "execution_count": 7,
      "metadata": {
        "colab": {
          "base_uri": "https://localhost:8080/"
        },
        "id": "MHD-4fxu1q2_",
        "outputId": "baf6f55f-746e-40e2-be12-b39fcc4059dd"
      },
      "outputs": [
        {
          "output_type": "stream",
          "name": "stdout",
          "text": [
            "[[20808512        0        0]\n",
            " [       0        0        0]\n",
            " [       0        0        0]\n",
            " [       0        0        0]]\n",
            "[[10 10 10]\n",
            " [10 10 10]\n",
            " [10 10 10]]\n"
          ]
        }
      ],
      "source": [
        "import numpy as np\n",
        "\n",
        "#Empty Array :\n",
        "empty_arr = np.empty((4,3) , dtype = int)\n",
        "print(empty_arr)\n",
        "\n",
        "#Full Array:\n",
        "full_arr = np.full([3,3] , 10 , dtype=int)\n",
        "print(full_arr)"
      ]
    },
    {
      "cell_type": "code",
      "source": [
        ""
      ],
      "metadata": {
        "id": "FlNuB7wR23mC"
      },
      "execution_count": 6,
      "outputs": []
    }
  ]
}