{
  "nbformat": 4,
  "nbformat_minor": 0,
  "metadata": {
    "colab": {
      "name": "1.Create Empty & Full Arrays.ipynb",
      "provenance": []
    },
    "kernelspec": {
      "name": "python3",
      "display_name": "Python 3"
    },
    "language_info": {
      "name": "python"
    }
  },
  "cells": [
    {
      "cell_type": "code",
      "execution_count": 1,
      "metadata": {
        "colab": {
          "base_uri": "https://localhost:8080/"
        },
        "id": "ZGnrkadh_ysT",
        "outputId": "9a9e3d52-749a-4bbe-f6b4-31d4b1ac5143"
      },
      "outputs": [
        {
          "output_type": "stream",
          "name": "stdout",
          "text": [
            "[[1.67656e-316 0.00000e+000 0.00000e+000]\n",
            " [0.00000e+000 0.00000e+000 0.00000e+000]\n",
            " [0.00000e+000 0.00000e+000 0.00000e+000]]\n",
            "[[15 15 15]\n",
            " [15 15 15]\n",
            " [15 15 15]]\n"
          ]
        }
      ],
      "source": [
        "import numpy as np\n",
        "\n",
        "empty_arr = np.empty ((3,3))\n",
        "print(empty_arr)\n",
        "\n",
        "full_arr = np.full ((3,3) , 15)\n",
        "print(full_arr)"
      ]
    },
    {
      "cell_type": "code",
      "source": [
        ""
      ],
      "metadata": {
        "id": "UXzpsCfdAZou"
      },
      "execution_count": null,
      "outputs": []
    }
  ]
}